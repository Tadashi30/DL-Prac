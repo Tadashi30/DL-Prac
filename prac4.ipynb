{
  "nbformat": 4,
  "nbformat_minor": 0,
  "metadata": {
    "colab": {
      "provenance": [],
      "authorship_tag": "ABX9TyO/Yw/K+PPT2EP66G5Bij4p",
      "include_colab_link": true
    },
    "kernelspec": {
      "name": "python3",
      "display_name": "Python 3"
    },
    "language_info": {
      "name": "python"
    }
  },
  "cells": [
    {
      "cell_type": "markdown",
      "metadata": {
        "id": "view-in-github",
        "colab_type": "text"
      },
      "source": [
        "<a href=\"https://colab.research.google.com/github/yuvrajdevrukhkar/DLLab/blob/main/prac4.ipynb\" target=\"_parent\"><img src=\"https://colab.research.google.com/assets/colab-badge.svg\" alt=\"Open In Colab\"/></a>"
      ]
    },
    {
      "cell_type": "markdown",
      "metadata": {
        "id": "hD7cHJKgZXB7"
      },
      "source": [
        "# Use Autoencoder to implement anomaly detection. Build the model.\n"
      ]
    },
    {
      "cell_type": "markdown",
      "metadata": {
        "id": "A_H_seeFvxLJ"
      },
      "source": [
        "**a. Import required libraries**\n"
      ]
    },
    {
      "cell_type": "code",
      "execution_count": 6,
      "metadata": {
        "id": "MqYL7tMQZrIT"
      },
      "outputs": [],
      "source": [
        "import numpy as np\n",
        "import tensorflow as tf\n",
        "from tensorflow.keras.models import Model\n",
        "from tensorflow.keras.layers import Dense, Input\n",
        "from tensorflow.keras.datasets import mnist\n",
        "from sklearn.model_selection import train_test_split\n",
        "import matplotlib.pyplot as plt"
      ]
    },
    {
      "cell_type": "markdown",
      "metadata": {
        "id": "UPHUU4m7vzJS"
      },
      "source": [
        "**b. Upload/access the dataset**\n"
      ]
    },
    {
      "cell_type": "code",
      "execution_count": 7,
      "metadata": {
        "id": "dHU1OGa4ZrFc"
      },
      "outputs": [],
      "source": [
        "# Load the MNIST dataset\n",
        "(x_train, y_train), (x_test, y_test) = mnist.load_data()\n",
        "\n",
        "# Preprocess the image data\n",
        "x_train = x_train.astype('float32') / 255.0\n",
        "x_test = x_test.astype('float32') / 255.0\n",
        "\n",
        "x_train = x_train.reshape((len(x_train), np.prod(x_train.shape[1:])))\n",
        "x_test = x_test.reshape((len(x_test), np.prod(x_test.shape[1:])))\n",
        "\n",
        "\n",
        "#split data into training and tesing\n",
        "x_train, x_val = train_test_split(x_train, test_size=0.2, random_state=42)"
      ]
    },
    {
      "cell_type": "markdown",
      "metadata": {
        "id": "OTt8qyiNv2UC"
      },
      "source": [
        "**c. The encoder converts it into a latent representation**\n"
      ]
    },
    {
      "cell_type": "code",
      "execution_count": 8,
      "metadata": {
        "id": "u6jXs2Svv1zE"
      },
      "outputs": [],
      "source": [
        "input_layer = Input(shape=(x_train.shape[1],))\n",
        "encoded = Dense(128, activation='relu')(input_layer)\n",
        "encoded = Dense(64, activation='relu')(encoded)\n",
        "encoded = Dense(32, activation='relu')(encoded)\n",
        "\n",
        "encoder = Model(input_layer, encoded)"
      ]
    },
    {
      "cell_type": "markdown",
      "metadata": {
        "id": "JWp3nZ8lv4nZ"
      },
      "source": [
        "**d. Decoder networks convert it back to the original input**\n"
      ]
    },
    {
      "cell_type": "code",
      "execution_count": 9,
      "metadata": {
        "id": "3tYB00J5v1kK"
      },
      "outputs": [],
      "source": [
        "\n",
        "decoded = Dense(64, activation='relu')(encoded)\n",
        "decoded = Dense(128, activation='relu')(decoded)\n",
        "decoded = Dense(x_train.shape[1], activation='sigmoid')(decoded)\n",
        "\n",
        "autoencoder = Model(input_layer, decoded)"
      ]
    },
    {
      "cell_type": "markdown",
      "metadata": {
        "id": "GcTk-EQWv6m7"
      },
      "source": [
        "**e. Compile the models with Optimizer, Loss, and Evaluation Metrics**\n"
      ]
    },
    {
      "cell_type": "code",
      "execution_count": 10,
      "metadata": {
        "id": "9o2W8PWZZwZU"
      },
      "outputs": [],
      "source": [
        "# Compile the encoder model\n",
        "autoencoder.compile(optimizer='adam', loss='mean_squared_error')"
      ]
    },
    {
      "cell_type": "code",
      "execution_count": 11,
      "metadata": {
        "id": "6f4adKRIv73o",
        "outputId": "6423b1e1-ac05-4af2-eba9-d0ef62427602",
        "colab": {
          "base_uri": "https://localhost:8080/"
        }
      },
      "outputs": [
        {
          "output_type": "stream",
          "name": "stdout",
          "text": [
            "Epoch 1/10\n",
            "1500/1500 [==============================] - 12s 7ms/step - loss: 0.0340 - val_loss: 0.0205\n",
            "Epoch 2/10\n",
            "1500/1500 [==============================] - 13s 9ms/step - loss: 0.0178 - val_loss: 0.0158\n",
            "Epoch 3/10\n",
            "1500/1500 [==============================] - 11s 8ms/step - loss: 0.0145 - val_loss: 0.0137\n",
            "Epoch 4/10\n",
            "1500/1500 [==============================] - 12s 8ms/step - loss: 0.0126 - val_loss: 0.0121\n",
            "Epoch 5/10\n",
            "1500/1500 [==============================] - 11s 8ms/step - loss: 0.0116 - val_loss: 0.0112\n",
            "Epoch 6/10\n",
            "1500/1500 [==============================] - 11s 7ms/step - loss: 0.0109 - val_loss: 0.0109\n",
            "Epoch 7/10\n",
            "1500/1500 [==============================] - 11s 7ms/step - loss: 0.0104 - val_loss: 0.0107\n",
            "Epoch 8/10\n",
            "1500/1500 [==============================] - 11s 7ms/step - loss: 0.0100 - val_loss: 0.0100\n",
            "Epoch 9/10\n",
            "1500/1500 [==============================] - 10s 6ms/step - loss: 0.0096 - val_loss: 0.0097\n",
            "Epoch 10/10\n",
            "1500/1500 [==============================] - 11s 8ms/step - loss: 0.0094 - val_loss: 0.0095\n"
          ]
        },
        {
          "output_type": "execute_result",
          "data": {
            "text/plain": [
              "<keras.src.callbacks.History at 0x7ea76ddfffd0>"
            ]
          },
          "metadata": {},
          "execution_count": 11
        }
      ],
      "source": [
        "#train the autoencoder on the training data\n",
        "autoencoder.fit(x_train, x_train, epochs=10, batch_size=32, validation_data=(x_val, x_val))"
      ]
    },
    {
      "cell_type": "code",
      "execution_count": 12,
      "metadata": {
        "id": "MC-zt03EwbKp",
        "outputId": "ab283cce-d809-4e2b-b618-d53747b79b8f",
        "colab": {
          "base_uri": "https://localhost:8080/"
        }
      },
      "outputs": [
        {
          "output_type": "stream",
          "name": "stdout",
          "text": [
            "313/313 [==============================] - 1s 2ms/step\n"
          ]
        }
      ],
      "source": [
        "#evauate the autoencoder on the training data\n",
        "reconstruction_error = np.mean(np.square(x_test - autoencoder.predict(x_test)), axis=1)\n",
        "\n",
        "#set the threshold anomaly detection\n",
        "threshold = np.percentile(reconstruction_error, 95)\n",
        "\n",
        "#detect the anomaly in the test data\n",
        "anomalies = x_test[reconstruction_error > threshold]"
      ]
    },
    {
      "cell_type": "code",
      "execution_count": 13,
      "metadata": {
        "id": "yJiUFxgXpfR8",
        "outputId": "68e034cd-5523-41d7-fd73-4e6ae693888c",
        "colab": {
          "base_uri": "https://localhost:8080/",
          "height": 144
        }
      },
      "outputs": [
        {
          "output_type": "display_data",
          "data": {
            "text/plain": [
              "<Figure size 640x480 with 5 Axes>"
            ],
            "image/png": "[encoded data removed]"
          },
          "metadata": {}
        }
      ],
      "source": [
        "#display the some detected anomalies\n",
        "n_anomalies_to_display = 5\n",
        "for i in range(n_anomalies_to_display):\n",
        "    plt.subplot(1, n_anomalies_to_display, i + 1)\n",
        "    plt.imshow(anomalies[i].reshape(28, 28), cmap='gray')\n",
        "    plt.title(f'Anomaly {i + 1}')\n",
        "    plt.axis('off')\n",
        "plt.show()"
      ]
    },
    {
      "cell_type": "code",
      "execution_count": 13,
      "metadata": {
        "id": "rsEBq4gTLKAJ"
      },
      "outputs": [],
      "source": []
    }
  ]
}