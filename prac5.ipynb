{
  "nbformat": 4,
  "nbformat_minor": 0,
  "metadata": {
    "colab": {
      "provenance": [],
      "authorship_tag": "ABX9TyM0n3Dr49YyHlStCy+NXtex",
      "include_colab_link": true
    },
    "kernelspec": {
      "name": "python3",
      "display_name": "Python 3"
    },
    "language_info": {
      "name": "python"
    }
  },
  "cells": [
    {
      "cell_type": "markdown",
      "metadata": {
        "id": "view-in-github",
        "colab_type": "text"
      },
      "source": [
        "<a href=\"https://colab.research.google.com/github/yuvrajdevrukhkar/DLLab/blob/main/prac5.ipynb\" target=\"_parent\"><img src=\"https://colab.research.google.com/assets/colab-badge.svg\" alt=\"Open In Colab\"/></a>"
      ]
    },
    {
      "cell_type": "code",
      "execution_count": null,
      "metadata": {
        "colab": {
          "base_uri": "https://localhost:8080/"
        },
        "id": "hWPo8u3gE6HC",
        "outputId": "22cede23-8f86-4e33-8081-4b60d851ccff"
      },
      "outputs": [
        {
          "output_type": "stream",
          "name": "stdout",
          "text": [
            "Embedding for \"continuous\": [ 0.02310492  0.06932787 -0.12654205  0.13365555  0.12372326  0.08998462\n",
            "  0.07651193  0.12454349  0.10868638 -0.13465185  0.10724106 -0.05694027\n",
            " -0.0464944   0.04929291  0.12423536 -0.10129827 -0.13742745  0.089001\n",
            " -0.14689118  0.09035106  0.11407502 -0.07948466  0.11442833 -0.16235426\n",
            " -0.00892004 -0.07672003 -0.08255977 -0.09554536  0.10237414  0.15787858\n",
            "  0.12563555 -0.09183277 -0.04440211 -0.08422723  0.0920196   0.05433542\n",
            "  0.07938681  0.06140272  0.10778797 -0.15336682 -0.10075109  0.03808346\n",
            " -0.06810281  0.12006819 -0.08440902 -0.12546875  0.07539089  0.1053844\n",
            "  0.11789857 -0.13430384  0.11090727  0.14952749 -0.06024612 -0.05517796\n",
            "  0.1570728   0.09841972 -0.12943293 -0.10137805 -0.13179407 -0.08113645\n",
            " -0.16438931  0.08654918 -0.10237004  0.02611706  0.06202988 -0.07410015\n",
            "  0.09887502 -0.13151161 -0.12488033 -0.16481675 -0.0675611   0.06416555\n",
            " -0.03203936  0.09313873 -0.08214913  0.14798562  0.08282845 -0.06860059\n",
            " -0.12804443  0.1471337  -0.133628    0.08883209 -0.12363096  0.1201425\n",
            " -0.09262036 -0.12565368  0.12427525 -0.09503715  0.09315337 -0.06039034\n",
            " -0.07786465 -0.04050224  0.15347977  0.09627413 -0.12255431  0.07946818\n",
            "  0.13768883 -0.15325119 -0.07927588 -0.10010089]\n"
          ]
        }
      ],
      "source": [
        "# Import necessary packages\n",
        "import tensorflow as tf\n",
        "from tensorflow import keras\n",
        "from tensorflow.keras.preprocessing.text import Tokenizer\n",
        "from tensorflow.keras.preprocessing.sequence import pad_sequences\n",
        "import numpy as np\n",
        "\n",
        "# Example text data\n",
        "text = \"continuous bag of words model is a simple and effective method for word embeddings\"\n",
        "\n",
        "# Tokenize the text\n",
        "tokenizer = Tokenizer()\n",
        "tokenizer.fit_on_texts([text])\n",
        "\n",
        "# Create word-to-index and index-to-word mapping\n",
        "word2idx = tokenizer.word_index\n",
        "idx2word = {v: k for k, v in word2idx.items()}\n",
        "\n",
        "# Convert text to sequences\n",
        "sequences = tokenizer.texts_to_sequences([text])[0]\n",
        "\n",
        "# Generate training data\n",
        "vocab_size = len(word2idx) + 1  # Add 1 for padding token\n",
        "context_window = 2  # Adjust context window size\n",
        "X, y = [], []\n",
        "\n",
        "for i in range(context_window, len(sequences) - context_window):\n",
        "    context = sequences[i - context_window:i] + sequences[i + 1:i + context_window + 1]\n",
        "    target = sequences[i]\n",
        "    X.append(context)\n",
        "    y.append(target)\n",
        "\n",
        "X = np.array(X)\n",
        "y = np.array(y)\n",
        "\n",
        "# Pad the sequences to the same length\n",
        "max_sequence_length = context_window * 2\n",
        "X = pad_sequences(X, maxlen=max_sequence_length)\n",
        "\n",
        "# Define the CBOW model\n",
        "model = keras.Sequential([\n",
        "    keras.layers.Embedding(input_dim=vocab_size, output_dim=100, input_length=max_sequence_length),\n",
        "    keras.layers.GlobalAveragePooling1D(),\n",
        "    keras.layers.Dense(vocab_size, activation='softmax')\n",
        "])\n",
        "\n",
        "# Compile the model\n",
        "model.compile(optimizer='adam', loss='sparse_categorical_crossentropy')\n",
        "\n",
        "# Train the model\n",
        "model.fit(X, y, epochs=100, verbose=0)\n",
        "\n",
        "# Extract the word embeddings\n",
        "word_embeddings = model.layers[0].get_weights()[0]\n",
        "\n",
        "# Get the word embedding for a specific word\n",
        "word_to_lookup = 'continuous'\n",
        "word_idx = word2idx[word_to_lookup]\n",
        "embedding = word_embeddings[word_idx]\n",
        "\n",
        "print(f'Embedding for \"{word_to_lookup}\": {embedding}')\n"
      ]
    }
  ]
}